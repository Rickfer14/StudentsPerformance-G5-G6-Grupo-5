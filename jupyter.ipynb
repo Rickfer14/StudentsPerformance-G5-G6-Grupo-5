{
 "cells": [
  {
   "cell_type": "markdown",
   "metadata": {},
   "source": [
    "# ANALIZAR LA CORRELACIÓN ENTRE EL NIVEL EDUCATIVO PARENTAL Y LA PREPARACIÓN PREVIA PARA EXÁMENES EN ESTUDIANTES DE 5º Y 6º GRADO, CONSIDERANDO EL TIPO DE ALMUERZO COMO FACTOR CLAVE EN ESTUDIANTES CON PADRES DE MENOR FORMACION EDUCATIVA\n",
    "\n",
    "__*Ricardo Quintero, Diego Aguilar*__"
   ]
  },
  {
   "cell_type": "markdown",
   "metadata": {},
   "source": [
    "## **INTRODUCCIÓN**"
   ]
  },
  {
   "cell_type": "markdown",
   "metadata": {},
   "source": [
    "En este informe se busca realizar el estudio de la relación que existe entre el nivel educativo parental de los estudiantes y la preparación previa que estos poseen antes de un examen. Para ello, se analizarán las estadísticas descriptivas de cada una de las variables y posteriormente se calculará el coeficiente correlación de Pearson para observar que tan fuerte es esta correlación. Además, como la categoria \"some high school\" de la variable \"parental level of education\" se considera como valor atipico porque no sigue el comportamiento esperado, se analiza bidimensionalmente con la variable \"lunch\", donde se determina si el tipo de almuerzo puede influir en esta categoria sobre si los estudiantes tiendes mas a completar o no la preparacion previa al examen."
   ]
  },
  {
   "cell_type": "markdown",
   "metadata": {},
   "source": [
    "## **Primeras 5 filas de la base de datos:**"
   ]
  },
  {
   "cell_type": "code",
   "execution_count": null,
   "metadata": {},
   "outputs": [
    {
     "data": {
      "text/html": [
       "<style type=\"text/css\">\n",
       "</style>\n",
       "<table id=\"T_f4343\">\n",
       "  <thead>\n",
       "    <tr>\n",
       "      <th class=\"blank level0\" >&nbsp;</th>\n",
       "      <th id=\"T_f4343_level0_col0\" class=\"col_heading level0 col0\" >Género</th>\n",
       "      <th id=\"T_f4343_level0_col1\" class=\"col_heading level0 col1\" >Raza/Etnia</th>\n",
       "      <th id=\"T_f4343_level0_col2\" class=\"col_heading level0 col2\" >Nivel educativo parental</th>\n",
       "      <th id=\"T_f4343_level0_col3\" class=\"col_heading level0 col3\" >Tipo de almuerzo</th>\n",
       "      <th id=\"T_f4343_level0_col4\" class=\"col_heading level0 col4\" >Preparación Previa al examen</th>\n",
       "      <th id=\"T_f4343_level0_col5\" class=\"col_heading level0 col5\" >Nota en Matemáticas</th>\n",
       "      <th id=\"T_f4343_level0_col6\" class=\"col_heading level0 col6\" >Nota en lectura</th>\n",
       "      <th id=\"T_f4343_level0_col7\" class=\"col_heading level0 col7\" >Nota en escritura</th>\n",
       "    </tr>\n",
       "  </thead>\n",
       "  <tbody>\n",
       "    <tr>\n",
       "      <th id=\"T_f4343_level0_row0\" class=\"row_heading level0 row0\" >0</th>\n",
       "      <td id=\"T_f4343_row0_col0\" class=\"data row0 col0\" >Mujer</td>\n",
       "      <td id=\"T_f4343_row0_col1\" class=\"data row0 col1\" >Grupo B</td>\n",
       "      <td id=\"T_f4343_row0_col2\" class=\"data row0 col2\" >Licenciatura</td>\n",
       "      <td id=\"T_f4343_row0_col3\" class=\"data row0 col3\" >Estandar</td>\n",
       "      <td id=\"T_f4343_row0_col4\" class=\"data row0 col4\" >Ninguna</td>\n",
       "      <td id=\"T_f4343_row0_col5\" class=\"data row0 col5\" >72</td>\n",
       "      <td id=\"T_f4343_row0_col6\" class=\"data row0 col6\" >72</td>\n",
       "      <td id=\"T_f4343_row0_col7\" class=\"data row0 col7\" >74</td>\n",
       "    </tr>\n",
       "    <tr>\n",
       "      <th id=\"T_f4343_level0_row1\" class=\"row_heading level0 row1\" >1</th>\n",
       "      <td id=\"T_f4343_row1_col0\" class=\"data row1 col0\" >Mujer</td>\n",
       "      <td id=\"T_f4343_row1_col1\" class=\"data row1 col1\" >Grupo C</td>\n",
       "      <td id=\"T_f4343_row1_col2\" class=\"data row1 col2\" >Algún estudio universitario</td>\n",
       "      <td id=\"T_f4343_row1_col3\" class=\"data row1 col3\" >Estandar</td>\n",
       "      <td id=\"T_f4343_row1_col4\" class=\"data row1 col4\" >Completada</td>\n",
       "      <td id=\"T_f4343_row1_col5\" class=\"data row1 col5\" >69</td>\n",
       "      <td id=\"T_f4343_row1_col6\" class=\"data row1 col6\" >90</td>\n",
       "      <td id=\"T_f4343_row1_col7\" class=\"data row1 col7\" >88</td>\n",
       "    </tr>\n",
       "    <tr>\n",
       "      <th id=\"T_f4343_level0_row2\" class=\"row_heading level0 row2\" >2</th>\n",
       "      <td id=\"T_f4343_row2_col0\" class=\"data row2 col0\" >Mujer</td>\n",
       "      <td id=\"T_f4343_row2_col1\" class=\"data row2 col1\" >Grupo B</td>\n",
       "      <td id=\"T_f4343_row2_col2\" class=\"data row2 col2\" >Título de maestría</td>\n",
       "      <td id=\"T_f4343_row2_col3\" class=\"data row2 col3\" >Estandar</td>\n",
       "      <td id=\"T_f4343_row2_col4\" class=\"data row2 col4\" >Ninguna</td>\n",
       "      <td id=\"T_f4343_row2_col5\" class=\"data row2 col5\" >90</td>\n",
       "      <td id=\"T_f4343_row2_col6\" class=\"data row2 col6\" >95</td>\n",
       "      <td id=\"T_f4343_row2_col7\" class=\"data row2 col7\" >93</td>\n",
       "    </tr>\n",
       "    <tr>\n",
       "      <th id=\"T_f4343_level0_row3\" class=\"row_heading level0 row3\" >3</th>\n",
       "      <td id=\"T_f4343_row3_col0\" class=\"data row3 col0\" >Hombre</td>\n",
       "      <td id=\"T_f4343_row3_col1\" class=\"data row3 col1\" >Grupo A</td>\n",
       "      <td id=\"T_f4343_row3_col2\" class=\"data row3 col2\" >Título de asociado</td>\n",
       "      <td id=\"T_f4343_row3_col3\" class=\"data row3 col3\" >Gratis/subsidiado</td>\n",
       "      <td id=\"T_f4343_row3_col4\" class=\"data row3 col4\" >Ninguna</td>\n",
       "      <td id=\"T_f4343_row3_col5\" class=\"data row3 col5\" >47</td>\n",
       "      <td id=\"T_f4343_row3_col6\" class=\"data row3 col6\" >57</td>\n",
       "      <td id=\"T_f4343_row3_col7\" class=\"data row3 col7\" >44</td>\n",
       "    </tr>\n",
       "    <tr>\n",
       "      <th id=\"T_f4343_level0_row4\" class=\"row_heading level0 row4\" >4</th>\n",
       "      <td id=\"T_f4343_row4_col0\" class=\"data row4 col0\" >Hombre</td>\n",
       "      <td id=\"T_f4343_row4_col1\" class=\"data row4 col1\" >Grupo C</td>\n",
       "      <td id=\"T_f4343_row4_col2\" class=\"data row4 col2\" >Algún estudio universitario</td>\n",
       "      <td id=\"T_f4343_row4_col3\" class=\"data row4 col3\" >Estandar</td>\n",
       "      <td id=\"T_f4343_row4_col4\" class=\"data row4 col4\" >Ninguna</td>\n",
       "      <td id=\"T_f4343_row4_col5\" class=\"data row4 col5\" >76</td>\n",
       "      <td id=\"T_f4343_row4_col6\" class=\"data row4 col6\" >78</td>\n",
       "      <td id=\"T_f4343_row4_col7\" class=\"data row4 col7\" >75</td>\n",
       "    </tr>\n",
       "  </tbody>\n",
       "</table>\n"
      ],
      "text/plain": [
       "<pandas.io.formats.style.Styler at 0x20f076a9cd0>"
      ]
     },
     "execution_count": 112,
     "metadata": {},
     "output_type": "execute_result"
    }
   ],
   "source": [
    "#leer la base de datos en formato csv \n",
    "import pandas as pd\n",
    "csv = ('C:\\\\Users\\\\User\\\\Desktop\\\\RICARDOUNI\\\\'\n",
    "        'StudentsPerformance G5-G6 - StudentsPerformance G5-G6.csv')\n",
    "df = pd.read_csv(csv)\n",
    "\n",
    "#--TRADUCCION DEL CSV\n",
    "\n",
    "#---renombrar variables a español\n",
    "df.columns = ['Género',\n",
    "              'Raza/Etnia',\n",
    "              'Nivel educativo parental',\n",
    "              'Tipo de almuerzo',\n",
    "              'Preparación Previa al examen',\n",
    "              'Nota en Matemáticas',\n",
    "              'Nota en lectura',\n",
    "              'Nota en escritura'\n",
    "]\n",
    "\n",
    "#---renombrar valores a español\n",
    "df['Raza/Etnia'] = df['Raza/Etnia'].replace({\n",
    "    'group A' : 'Grupo A',\n",
    "    'group B' : 'Grupo B',\n",
    "    'group C' : 'Grupo C',\n",
    "    'group D' : 'Grupo D'\n",
    "})\n",
    "\n",
    "df['Género'] = df['Género'].replace({\n",
    "    'male' : 'Hombre',\n",
    "    'female' : 'Mujer'\n",
    "})\n",
    "\n",
    "df['Nivel educativo parental'] = df['Nivel educativo parental'].replace({\n",
    "    'some high school' : 'Algún estudio de secundaria',\n",
    "    'high school' : 'Escuela secundaria',\n",
    "    'some college' : 'Algún estudio universitario',\n",
    "    \"associate's degree\" : 'Título de asociado',\n",
    "    \"bachelor's degree\" : 'Licenciatura',\n",
    "    \"master's degree\" : 'Título de maestría'\n",
    "})\n",
    "\n",
    "df['Tipo de almuerzo'] = df['Tipo de almuerzo'].replace({\n",
    "    'standard' : 'Estandar',\n",
    "    'free/reduced' : 'Gratis/subsidiado'\n",
    "})\n",
    "\n",
    "df['Preparación Previa al examen'] = df['Preparación Previa al examen'].replace({\n",
    "    'none' : 'Ninguna',\n",
    "    'completed' : 'Completada'\n",
    "})\n",
    "\n",
    "#mostrar primeras 5 filas del csv\n",
    "df.head(5).style"
   ]
  },
  {
   "cell_type": "markdown",
   "metadata": {},
   "source": [
    "## **Tabla bivariante**"
   ]
  },
  {
   "cell_type": "markdown",
   "metadata": {},
   "source": [
    "En la siguiente tabla, se muestran la cantidad de estudiantes que completaron (o no) la preparación previa al examen, según el nivel educativo de los padres de los estudiantes.\n",
    "- Cómo análisis general, se puede observar que los estudiantes tienden más a no completar el curso que si hacerlo. Concretamente, 64,2% de los estudiantes son quienes no completan el curso.\n",
    "\n",
    "- La clase más frecuente, respecto a los estudiantes que completaron el curso, es la categoría \"Título de asociado\", representando a 82 de los 358 estudiantes pertenecientes a este nivel educativo parental."
   ]
  },
  {
   "cell_type": "code",
   "execution_count": 118,
   "metadata": {},
   "outputs": [
    {
     "data": {
      "text/html": [
       "<style type=\"text/css\">\n",
       "#T_07b1d_row0_col0, #T_07b1d_row0_col1, #T_07b1d_row0_col2, #T_07b1d_row0_col3, #T_07b1d_row0_col4, #T_07b1d_row0_col5, #T_07b1d_row0_col6 {\n",
       "  background-color: #6aaed6;\n",
       "  color: #f1f1f1;\n",
       "  text-align: center;\n",
       "  font-size: 12pt;\n",
       "}\n",
       "#T_07b1d_row1_col0 {\n",
       "  background-color: #4292c6;\n",
       "  color: #f1f1f1;\n",
       "  text-align: center;\n",
       "  font-size: 12pt;\n",
       "}\n",
       "#T_07b1d_row1_col1 {\n",
       "  background-color: #2373b6;\n",
       "  color: #f1f1f1;\n",
       "  text-align: center;\n",
       "  font-size: 12pt;\n",
       "}\n",
       "#T_07b1d_row1_col2 {\n",
       "  background-color: #1764ab;\n",
       "  color: #f1f1f1;\n",
       "  text-align: center;\n",
       "  font-size: 12pt;\n",
       "}\n",
       "#T_07b1d_row1_col3 {\n",
       "  background-color: #3383be;\n",
       "  color: #f1f1f1;\n",
       "  text-align: center;\n",
       "  font-size: 12pt;\n",
       "}\n",
       "#T_07b1d_row1_col4 {\n",
       "  background-color: #2c7cba;\n",
       "  color: #f1f1f1;\n",
       "  text-align: center;\n",
       "  font-size: 12pt;\n",
       "}\n",
       "#T_07b1d_row1_col5 {\n",
       "  background-color: #2272b6;\n",
       "  color: #f1f1f1;\n",
       "  text-align: center;\n",
       "  font-size: 12pt;\n",
       "}\n",
       "#T_07b1d_row1_col6 {\n",
       "  background-color: #2979b9;\n",
       "  color: #f1f1f1;\n",
       "  text-align: center;\n",
       "  font-size: 12pt;\n",
       "}\n",
       "#T_07b1d_row2_col0, #T_07b1d_row2_col1, #T_07b1d_row2_col2, #T_07b1d_row2_col3, #T_07b1d_row2_col4, #T_07b1d_row2_col5, #T_07b1d_row2_col6 {\n",
       "  background-color: #08306b;\n",
       "  color: #f1f1f1;\n",
       "  text-align: center;\n",
       "  font-size: 12pt;\n",
       "}\n",
       "</style>\n",
       "<table id=\"T_07b1d\">\n",
       "  <caption>Tabla de contingencia de los niveles educativos parentales por la preparación previa para examenes</caption>\n",
       "  <thead>\n",
       "    <tr>\n",
       "      <th class=\"index_name level0\" >Nivel educativo parental</th>\n",
       "      <th id=\"T_07b1d_level0_col0\" class=\"col_heading level0 col0\" >Algún estudio de secundaria</th>\n",
       "      <th id=\"T_07b1d_level0_col1\" class=\"col_heading level0 col1\" >Algún estudio universitario</th>\n",
       "      <th id=\"T_07b1d_level0_col2\" class=\"col_heading level0 col2\" >Escuela secundaria</th>\n",
       "      <th id=\"T_07b1d_level0_col3\" class=\"col_heading level0 col3\" >Licenciatura</th>\n",
       "      <th id=\"T_07b1d_level0_col4\" class=\"col_heading level0 col4\" >Título de asociado</th>\n",
       "      <th id=\"T_07b1d_level0_col5\" class=\"col_heading level0 col5\" >Título de maestría</th>\n",
       "      <th id=\"T_07b1d_level0_col6\" class=\"col_heading level0 col6\" >Total</th>\n",
       "    </tr>\n",
       "    <tr>\n",
       "      <th class=\"index_name level0\" >Preparación Previa al examen</th>\n",
       "      <th class=\"blank col0\" >&nbsp;</th>\n",
       "      <th class=\"blank col1\" >&nbsp;</th>\n",
       "      <th class=\"blank col2\" >&nbsp;</th>\n",
       "      <th class=\"blank col3\" >&nbsp;</th>\n",
       "      <th class=\"blank col4\" >&nbsp;</th>\n",
       "      <th class=\"blank col5\" >&nbsp;</th>\n",
       "      <th class=\"blank col6\" >&nbsp;</th>\n",
       "    </tr>\n",
       "  </thead>\n",
       "  <tbody>\n",
       "    <tr>\n",
       "      <th id=\"T_07b1d_level0_row0\" class=\"row_heading level0 row0\" >Completada</th>\n",
       "      <td id=\"T_07b1d_row0_col0\" class=\"data row0 col0\" >77</td>\n",
       "      <td id=\"T_07b1d_row0_col1\" class=\"data row0 col1\" >77</td>\n",
       "      <td id=\"T_07b1d_row0_col2\" class=\"data row0 col2\" >56</td>\n",
       "      <td id=\"T_07b1d_row0_col3\" class=\"data row0 col3\" >46</td>\n",
       "      <td id=\"T_07b1d_row0_col4\" class=\"data row0 col4\" >82</td>\n",
       "      <td id=\"T_07b1d_row0_col5\" class=\"data row0 col5\" >20</td>\n",
       "      <td id=\"T_07b1d_row0_col6\" class=\"data row0 col6\" >358</td>\n",
       "    </tr>\n",
       "    <tr>\n",
       "      <th id=\"T_07b1d_level0_row1\" class=\"row_heading level0 row1\" >Ninguna</th>\n",
       "      <td id=\"T_07b1d_row1_col0\" class=\"data row1 col0\" >102</td>\n",
       "      <td id=\"T_07b1d_row1_col1\" class=\"data row1 col1\" >149</td>\n",
       "      <td id=\"T_07b1d_row1_col2\" class=\"data row1 col2\" >140</td>\n",
       "      <td id=\"T_07b1d_row1_col3\" class=\"data row1 col3\" >72</td>\n",
       "      <td id=\"T_07b1d_row1_col4\" class=\"data row1 col4\" >140</td>\n",
       "      <td id=\"T_07b1d_row1_col5\" class=\"data row1 col5\" >39</td>\n",
       "      <td id=\"T_07b1d_row1_col6\" class=\"data row1 col6\" >642</td>\n",
       "    </tr>\n",
       "    <tr>\n",
       "      <th id=\"T_07b1d_level0_row2\" class=\"row_heading level0 row2\" >Total</th>\n",
       "      <td id=\"T_07b1d_row2_col0\" class=\"data row2 col0\" >179</td>\n",
       "      <td id=\"T_07b1d_row2_col1\" class=\"data row2 col1\" >226</td>\n",
       "      <td id=\"T_07b1d_row2_col2\" class=\"data row2 col2\" >196</td>\n",
       "      <td id=\"T_07b1d_row2_col3\" class=\"data row2 col3\" >118</td>\n",
       "      <td id=\"T_07b1d_row2_col4\" class=\"data row2 col4\" >222</td>\n",
       "      <td id=\"T_07b1d_row2_col5\" class=\"data row2 col5\" >59</td>\n",
       "      <td id=\"T_07b1d_row2_col6\" class=\"data row2 col6\" >1000</td>\n",
       "    </tr>\n",
       "  </tbody>\n",
       "</table>\n"
      ],
      "text/plain": [
       "<pandas.io.formats.style.Styler at 0x20f08b38640>"
      ]
     },
     "execution_count": 118,
     "metadata": {},
     "output_type": "execute_result"
    }
   ],
   "source": [
    "tabla = pd.crosstab(df['Preparación Previa al examen'], \n",
    "            df['Nivel educativo parental'],\n",
    "             margins=True,\n",
    "            margins_name='Total'\n",
    ")\n",
    "tabla.style.background_gradient(cmap='Blues',low=1.0).set_caption(\n",
    "'Tabla de contingencia de los niveles '\n",
    "'educativos parentales por la preparación '\n",
    "'previa para examenes').set_properties(\n",
    "**{'text-align': 'center', 'font-size': '12pt'}\n",
    ")"
   ]
  },
  {
   "cell_type": "code",
   "execution_count": 115,
   "metadata": {},
   "outputs": [
    {
     "data": {
      "text/plain": [
       "Nivel educativo parental\n",
       "Algún estudio de secundaria    77\n",
       "Algún estudio universitario    77\n",
       "Escuela secundaria             56\n",
       "Licenciatura                   46\n",
       "Título de asociado             82\n",
       "Título de maestría             20\n",
       "dtype: int64"
      ]
     },
     "execution_count": 115,
     "metadata": {},
     "output_type": "execute_result"
    }
   ],
   "source": [
    "#filtrar a los estudiantes que solo hayan completado la preparacion\n",
    "filtro_curso = df[df['Preparación Previa al examen'] == 'Completada']\n",
    "\n",
    "#separar en grupos a los estudiantes hayan completado la preparacion\n",
    "# por el nivel educativo de los padres \n",
    "filtro_curso1 = filtro_curso.groupby('Nivel educativo parental').size()\n",
    "filtro_curso1"
   ]
  },
  {
   "cell_type": "code",
   "execution_count": 116,
   "metadata": {},
   "outputs": [
    {
     "data": {
      "text/plain": [
       "([0, 1, 2, 3, 4, 5],\n",
       " [Text(0, 0, 'Algún estudio de secundaria'),\n",
       "  Text(1, 0, 'Algún estudio universitario'),\n",
       "  Text(2, 0, 'Escuela secundaria'),\n",
       "  Text(3, 0, 'Licenciatura'),\n",
       "  Text(4, 0, 'Título de asociado'),\n",
       "  Text(5, 0, 'Título de maestría')])"
      ]
     },
     "execution_count": 116,
     "metadata": {},
     "output_type": "execute_result"
    },
    {
     "data": {
      "image/png": "[encoded data removed]",
      "text/plain": [
       "<Figure size 1000x600 with 1 Axes>"
      ]
     },
     "metadata": {},
     "output_type": "display_data"
    }
   ],
   "source": [
    "# --crear grafico\n",
    "import matplotlib.pyplot as plt\n",
    "\n",
    "plt.figure(figsize=(10,6))\n",
    "etiquetas = filtro_curso1.index\n",
    "valores = filtro_curso1.values\n",
    "\n",
    "grafico = plt.bar(etiquetas, valores,width=0.6)\n",
    "\n",
    "plt.bar_label(grafico, labels=valores)\n",
    "\n",
    "plt.title('Cantidad de estudiantes que completaron el '\n",
    "           'test por nivel académico de los padres')\n",
    "\n",
    "plt.xlabel('Nivel académico de los padres')\n",
    "plt.ylabel('Cantidad de estudiantes')\n",
    "plt.xticks(rotation=45)"
   ]
  }
 ],
 "metadata": {
  "kernelspec": {
   "display_name": "Python 3",
   "language": "python",
   "name": "python3"
  },
  "language_info": {
   "codemirror_mode": {
    "name": "ipython",
    "version": 3
   },
   "file_extension": ".py",
   "mimetype": "text/x-python",
   "name": "python",
   "nbconvert_exporter": "python",
   "pygments_lexer": "ipython3",
   "version": "3.13.2"
  }
 },
 "nbformat": 4,
 "nbformat_minor": 2
}
