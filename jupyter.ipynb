{
 "cells": [
  {
   "cell_type": "markdown",
   "metadata": {},
   "source": [
    "# ANALIZAR LA CORRELACIÓN ENTRE EL NIVEL EDUCATIVO PARENTAL Y LA PREPARACIÓN PREVIA PARA EXÁMENES EN ESTUDIANTES DE 5º Y 6º GRADO, CONSIDERANDO EL TIPO DE ALMUERZO COMO FACTOR CLAVE EN ESTUDIANTES CON PADRES DE MENOR FORMACION EDUCATIVA\n",
    "\n",
    "__*Ricardo Quintero, Diego Aguilar*__"
   ]
  },
  {
   "cell_type": "markdown",
   "metadata": {},
   "source": [
    "## **INTRODUCCIÓN**"
   ]
  },
  {
   "cell_type": "markdown",
   "metadata": {},
   "source": [
    "En este informe se busca realizar el estudio de la relación que existe entre el nivel educativo parental de los estudiantes y la preparación previa que estos poseen antes de un examen. Para ello, se analizarán las estadísticas descriptivas de cada una de las variables y posteriormente se calculará el coeficiente correlación de Pearson para observar que tan fuerte es esta correlación. Además, como la categoria \"some high school\" de la variable \"parental level of education\" se considera como valor atipico porque no sigue el comportamiento esperado, se analiza bidimensionalmente con la variable \"lunch\", donde se determina si el tipo de almuerzo puede influir en esta categoria sobre si los estudiantes tiendes mas a completar o no la preparacion previa al examen."
   ]
  },
  {
   "cell_type": "markdown",
   "metadata": {},
   "source": [
    "## **Primeras 5 filas de la base de datos:**"
   ]
  },
  {
   "cell_type": "code",
   "execution_count": 45,
   "metadata": {},
   "outputs": [
    {
     "data": {
      "text/html": [
       "<div>\n",
       "<style scoped>\n",
       "    .dataframe tbody tr th:only-of-type {\n",
       "        vertical-align: middle;\n",
       "    }\n",
       "\n",
       "    .dataframe tbody tr th {\n",
       "        vertical-align: top;\n",
       "    }\n",
       "\n",
       "    .dataframe thead th {\n",
       "        text-align: right;\n",
       "    }\n",
       "</style>\n",
       "<table border=\"1\" class=\"dataframe\">\n",
       "  <thead>\n",
       "    <tr style=\"text-align: right;\">\n",
       "      <th></th>\n",
       "      <th>Nivel educativo de los padres</th>\n",
       "      <th>Almuerzo</th>\n",
       "      <th>Preparación</th>\n",
       "      <th>Promedio</th>\n",
       "    </tr>\n",
       "  </thead>\n",
       "  <tbody>\n",
       "    <tr>\n",
       "      <th>0</th>\n",
       "      <td>Licenciatura</td>\n",
       "      <td>Estándar</td>\n",
       "      <td>Ninguna</td>\n",
       "      <td>72.67</td>\n",
       "    </tr>\n",
       "    <tr>\n",
       "      <th>1</th>\n",
       "      <td>Algun estudio universitario</td>\n",
       "      <td>Estándar</td>\n",
       "      <td>Completada</td>\n",
       "      <td>82.33</td>\n",
       "    </tr>\n",
       "    <tr>\n",
       "      <th>2</th>\n",
       "      <td>Título de maestría</td>\n",
       "      <td>Estándar</td>\n",
       "      <td>Ninguna</td>\n",
       "      <td>92.67</td>\n",
       "    </tr>\n",
       "    <tr>\n",
       "      <th>3</th>\n",
       "      <td>Título de asociado</td>\n",
       "      <td>Gratis</td>\n",
       "      <td>Ninguna</td>\n",
       "      <td>49.33</td>\n",
       "    </tr>\n",
       "    <tr>\n",
       "      <th>4</th>\n",
       "      <td>Algun estudio universitario</td>\n",
       "      <td>Estándar</td>\n",
       "      <td>Ninguna</td>\n",
       "      <td>76.33</td>\n",
       "    </tr>\n",
       "  </tbody>\n",
       "</table>\n",
       "</div>"
      ],
      "text/latex": [
       "\\centering{\\begin{tabular}{llllr}\n",
       "\\toprule\n",
       " & Nivel educativo de los padres & Almuerzo & Preparación & Promedio \\\\\n",
       "\\midrule\n",
       "0 & Licenciatura & Estándar & Ninguna & 72.670000 \\\\\n",
       "1 & Algun estudio universitario & Estándar & Completada & 82.330000 \\\\\n",
       "2 & Título de maestría & Estándar & Ninguna & 92.670000 \\\\\n",
       "3 & Título de asociado & Gratis & Ninguna & 49.330000 \\\\\n",
       "4 & Algun estudio universitario & Estándar & Ninguna & 76.330000 \\\\\n",
       "\\bottomrule\n",
       "\\end{tabular}\n",
       "}"
      ],
      "text/plain": [
       "  Nivel educativo de los padres  Almuerzo Preparación  Promedio\n",
       "0                  Licenciatura  Estándar     Ninguna     72.67\n",
       "1   Algun estudio universitario  Estándar  Completada     82.33\n",
       "2            Título de maestría  Estándar     Ninguna     92.67\n",
       "3            Título de asociado    Gratis     Ninguna     49.33\n",
       "4   Algun estudio universitario  Estándar     Ninguna     76.33"
      ]
     },
     "execution_count": 45,
     "metadata": {},
     "output_type": "execute_result"
    }
   ],
   "source": [
    "#leer la base de datos en formato csv \n",
    "import pandas as pd\n",
    "\n",
    "pd.set_option('display.notebook_repr_html', True)\n",
    "\n",
    "def _repr_latex_(self):\n",
    "    return \"\\centering{%s}\" % self.to_latex()\n",
    "\n",
    "pd.DataFrame._repr_latex_ = _repr_latex_\n",
    "\n",
    "csv = ('https://raw.githubusercontent.com/Rickfer14/StudentsPerformance-G5-G6-Grupo-5/refs/heads/main/Rendimiento%20de%20los%20estudiantes%20de%205to%20y%206to%20grado.csv')\n",
    "df = pd.read_csv(csv)\n",
    "\n",
    "df = df.drop(columns=['Raza', 'Nota en matemáticas', 'Nota en lectura', 'Nota en escritura', 'Nota', 'Género'])\n",
    "df['Almuerzo'] = df['Almuerzo'].replace({'Gratis/Reducido': 'Gratis'})\n",
    "\n",
    "df.head(5)"
   ]
  },
  {
   "cell_type": "markdown",
   "metadata": {},
   "source": [
    "## **Tabla bivariante**"
   ]
  },
  {
   "cell_type": "markdown",
   "metadata": {},
   "source": [
    "En la siguiente tabla, se muestran la cantidad de estudiantes que completaron (o no) la preparación previa al examen, según el nivel educativo de los padres de los estudiantes.\n",
    "- Cómo análisis general, se puede observar que los estudiantes tienden más a no completar el curso que si hacerlo. Concretamente, 64,2% de los estudiantes son quienes no completan el curso.\n",
    "\n",
    "- La clase más frecuente, respecto a los estudiantes que completaron el curso, es la categoría \"Título de asociado\", representando a 82 de los 358 estudiantes pertenecientes a este nivel educativo parental."
   ]
  },
  {
   "cell_type": "code",
   "execution_count": 46,
   "metadata": {},
   "outputs": [
    {
     "data": {
      "text/html": [
       "<style type=\"text/css\">\n",
       "#T_2c4a0_row0_col0, #T_2c4a0_row0_col1, #T_2c4a0_row0_col2, #T_2c4a0_row0_col3, #T_2c4a0_row0_col4, #T_2c4a0_row0_col5, #T_2c4a0_row0_col6 {\n",
       "  background-color: #6aaed6;\n",
       "  color: #f1f1f1;\n",
       "  text-align: center;\n",
       "  font-size: 12pt;\n",
       "}\n",
       "#T_2c4a0_row1_col0 {\n",
       "  background-color: #4292c6;\n",
       "  color: #f1f1f1;\n",
       "  text-align: center;\n",
       "  font-size: 12pt;\n",
       "}\n",
       "#T_2c4a0_row1_col1 {\n",
       "  background-color: #2373b6;\n",
       "  color: #f1f1f1;\n",
       "  text-align: center;\n",
       "  font-size: 12pt;\n",
       "}\n",
       "#T_2c4a0_row1_col2 {\n",
       "  background-color: #1764ab;\n",
       "  color: #f1f1f1;\n",
       "  text-align: center;\n",
       "  font-size: 12pt;\n",
       "}\n",
       "#T_2c4a0_row1_col3 {\n",
       "  background-color: #3383be;\n",
       "  color: #f1f1f1;\n",
       "  text-align: center;\n",
       "  font-size: 12pt;\n",
       "}\n",
       "#T_2c4a0_row1_col4 {\n",
       "  background-color: #2c7cba;\n",
       "  color: #f1f1f1;\n",
       "  text-align: center;\n",
       "  font-size: 12pt;\n",
       "}\n",
       "#T_2c4a0_row1_col5 {\n",
       "  background-color: #2272b6;\n",
       "  color: #f1f1f1;\n",
       "  text-align: center;\n",
       "  font-size: 12pt;\n",
       "}\n",
       "#T_2c4a0_row1_col6 {\n",
       "  background-color: #2979b9;\n",
       "  color: #f1f1f1;\n",
       "  text-align: center;\n",
       "  font-size: 12pt;\n",
       "}\n",
       "#T_2c4a0_row2_col0, #T_2c4a0_row2_col1, #T_2c4a0_row2_col2, #T_2c4a0_row2_col3, #T_2c4a0_row2_col4, #T_2c4a0_row2_col5, #T_2c4a0_row2_col6 {\n",
       "  background-color: #08306b;\n",
       "  color: #f1f1f1;\n",
       "  text-align: center;\n",
       "  font-size: 12pt;\n",
       "}\n",
       "</style>\n",
       "<table id=\"T_2c4a0\">\n",
       "  <caption>Tabla de contingencia de los niveles educativos parentales por la preparación previa para examenes</caption>\n",
       "  <thead>\n",
       "    <tr>\n",
       "      <th class=\"index_name level0\" >Nivel educativo de los padres</th>\n",
       "      <th id=\"T_2c4a0_level0_col0\" class=\"col_heading level0 col0\" >Algun estudio de secundaria</th>\n",
       "      <th id=\"T_2c4a0_level0_col1\" class=\"col_heading level0 col1\" >Algun estudio universitario</th>\n",
       "      <th id=\"T_2c4a0_level0_col2\" class=\"col_heading level0 col2\" >Escuela secundaria</th>\n",
       "      <th id=\"T_2c4a0_level0_col3\" class=\"col_heading level0 col3\" >Licenciatura</th>\n",
       "      <th id=\"T_2c4a0_level0_col4\" class=\"col_heading level0 col4\" >Título de asociado</th>\n",
       "      <th id=\"T_2c4a0_level0_col5\" class=\"col_heading level0 col5\" >Título de maestría</th>\n",
       "      <th id=\"T_2c4a0_level0_col6\" class=\"col_heading level0 col6\" >Total</th>\n",
       "    </tr>\n",
       "    <tr>\n",
       "      <th class=\"index_name level0\" >Preparación</th>\n",
       "      <th class=\"blank col0\" >&nbsp;</th>\n",
       "      <th class=\"blank col1\" >&nbsp;</th>\n",
       "      <th class=\"blank col2\" >&nbsp;</th>\n",
       "      <th class=\"blank col3\" >&nbsp;</th>\n",
       "      <th class=\"blank col4\" >&nbsp;</th>\n",
       "      <th class=\"blank col5\" >&nbsp;</th>\n",
       "      <th class=\"blank col6\" >&nbsp;</th>\n",
       "    </tr>\n",
       "  </thead>\n",
       "  <tbody>\n",
       "    <tr>\n",
       "      <th id=\"T_2c4a0_level0_row0\" class=\"row_heading level0 row0\" >Completada</th>\n",
       "      <td id=\"T_2c4a0_row0_col0\" class=\"data row0 col0\" >77</td>\n",
       "      <td id=\"T_2c4a0_row0_col1\" class=\"data row0 col1\" >77</td>\n",
       "      <td id=\"T_2c4a0_row0_col2\" class=\"data row0 col2\" >56</td>\n",
       "      <td id=\"T_2c4a0_row0_col3\" class=\"data row0 col3\" >46</td>\n",
       "      <td id=\"T_2c4a0_row0_col4\" class=\"data row0 col4\" >82</td>\n",
       "      <td id=\"T_2c4a0_row0_col5\" class=\"data row0 col5\" >20</td>\n",
       "      <td id=\"T_2c4a0_row0_col6\" class=\"data row0 col6\" >358</td>\n",
       "    </tr>\n",
       "    <tr>\n",
       "      <th id=\"T_2c4a0_level0_row1\" class=\"row_heading level0 row1\" >Ninguna</th>\n",
       "      <td id=\"T_2c4a0_row1_col0\" class=\"data row1 col0\" >102</td>\n",
       "      <td id=\"T_2c4a0_row1_col1\" class=\"data row1 col1\" >149</td>\n",
       "      <td id=\"T_2c4a0_row1_col2\" class=\"data row1 col2\" >140</td>\n",
       "      <td id=\"T_2c4a0_row1_col3\" class=\"data row1 col3\" >72</td>\n",
       "      <td id=\"T_2c4a0_row1_col4\" class=\"data row1 col4\" >140</td>\n",
       "      <td id=\"T_2c4a0_row1_col5\" class=\"data row1 col5\" >39</td>\n",
       "      <td id=\"T_2c4a0_row1_col6\" class=\"data row1 col6\" >642</td>\n",
       "    </tr>\n",
       "    <tr>\n",
       "      <th id=\"T_2c4a0_level0_row2\" class=\"row_heading level0 row2\" >Total</th>\n",
       "      <td id=\"T_2c4a0_row2_col0\" class=\"data row2 col0\" >179</td>\n",
       "      <td id=\"T_2c4a0_row2_col1\" class=\"data row2 col1\" >226</td>\n",
       "      <td id=\"T_2c4a0_row2_col2\" class=\"data row2 col2\" >196</td>\n",
       "      <td id=\"T_2c4a0_row2_col3\" class=\"data row2 col3\" >118</td>\n",
       "      <td id=\"T_2c4a0_row2_col4\" class=\"data row2 col4\" >222</td>\n",
       "      <td id=\"T_2c4a0_row2_col5\" class=\"data row2 col5\" >59</td>\n",
       "      <td id=\"T_2c4a0_row2_col6\" class=\"data row2 col6\" >1000</td>\n",
       "    </tr>\n",
       "  </tbody>\n",
       "</table>\n"
      ],
      "text/plain": [
       "<pandas.io.formats.style.Styler at 0x23e3bf61700>"
      ]
     },
     "execution_count": 46,
     "metadata": {},
     "output_type": "execute_result"
    }
   ],
   "source": [
    "tabla = pd.crosstab(df['Preparación'], \n",
    "            df['Nivel educativo de los padres'],\n",
    "             margins=True,\n",
    "            margins_name='Total'\n",
    ")\n",
    "tabla.style.background_gradient(cmap='Blues',low=1.0).set_caption(\n",
    "'Tabla de contingencia de los niveles '\n",
    "'educativos parentales por la preparación '\n",
    "'previa para examenes').set_properties(\n",
    "**{'text-align': 'center', 'font-size': '12pt'}\n",
    ")"
   ]
  },
  {
   "cell_type": "code",
   "execution_count": 47,
   "metadata": {},
   "outputs": [
    {
     "data": {
      "text/plain": [
       "Nivel educativo de los padres\n",
       "Algun estudio de secundaria    77\n",
       "Algun estudio universitario    77\n",
       "Escuela secundaria             56\n",
       "Licenciatura                   46\n",
       "Título de asociado             82\n",
       "Título de maestría             20\n",
       "dtype: int64"
      ]
     },
     "execution_count": 47,
     "metadata": {},
     "output_type": "execute_result"
    }
   ],
   "source": [
    "#filtrar a los estudiantes que solo hayan completado la preparacion\n",
    "filtro_curso = df[df['Preparación'] == 'Completada']\n",
    "\n",
    "#separar en grupos a los estudiantes hayan completado la preparacion\n",
    "# por el nivel educativo de los padres \n",
    "filtro_curso1 = filtro_curso.groupby('Nivel educativo de los padres').size()\n",
    "filtro_curso1"
   ]
  },
  {
   "cell_type": "code",
   "execution_count": 48,
   "metadata": {},
   "outputs": [
    {
     "data": {
      "text/plain": [
       "([0, 1, 2, 3, 4, 5],\n",
       " [Text(0, 0, 'Algun estudio de secundaria'),\n",
       "  Text(1, 0, 'Algun estudio universitario'),\n",
       "  Text(2, 0, 'Escuela secundaria'),\n",
       "  Text(3, 0, 'Licenciatura'),\n",
       "  Text(4, 0, 'Título de asociado'),\n",
       "  Text(5, 0, 'Título de maestría')])"
      ]
     },
     "execution_count": 48,
     "metadata": {},
     "output_type": "execute_result"
    },
    {
     "data": {
      "image/png": "[encoded data removed]",
      "text/plain": [
       "<Figure size 1000x600 with 1 Axes>"
      ]
     },
     "metadata": {},
     "output_type": "display_data"
    }
   ],
   "source": [
    "# --crear grafico\n",
    "import matplotlib.pyplot as plt\n",
    "\n",
    "plt.figure(figsize=(10,6))\n",
    "etiquetas = filtro_curso1.index\n",
    "valores = filtro_curso1.values\n",
    "\n",
    "grafico = plt.bar(etiquetas, valores,width=0.6)\n",
    "\n",
    "plt.bar_label(grafico, labels=valores)\n",
    "\n",
    "plt.title('Cantidad de estudiantes que completaron el '\n",
    "           'test por nivel académico de los padres')\n",
    "\n",
    "plt.xlabel('Nivel académico de los padres')\n",
    "plt.ylabel('Cantidad de estudiantes')\n",
    "plt.xticks(rotation=45)"
   ]
  }
 ],
 "metadata": {
  "kernelspec": {
   "display_name": "Python 3",
   "language": "python",
   "name": "python3"
  },
  "language_info": {
   "codemirror_mode": {
    "name": "ipython",
    "version": 3
   },
   "file_extension": ".py",
   "mimetype": "text/x-python",
   "name": "python",
   "nbconvert_exporter": "python",
   "pygments_lexer": "ipython3",
   "version": "3.13.2"
  }
 },
 "nbformat": 4,
 "nbformat_minor": 2
}
