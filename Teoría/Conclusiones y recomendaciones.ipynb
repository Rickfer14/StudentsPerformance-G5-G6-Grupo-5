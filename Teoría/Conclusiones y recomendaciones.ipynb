{
 "cells": [
  {
   "cell_type": "markdown",
   "metadata": {},
   "source": [
    "# CONCLUSIONES Y RECOMENDACIONES"
   ]
  },
  {
   "cell_type": "markdown",
   "metadata": {},
   "source": [
    "En el presente capitulo se pretende exponer las conclusiones obtenidas en la investigación las cuales se desglosarán según los objetivos señalados al inicio del estudio, así como las posibles recomendaciones a considerar como vías para la solución de la problemática planteada. "
   ]
  },
  {
   "cell_type": "markdown",
   "metadata": {},
   "source": [
    "## Distribución de las categorías de preparación para exámenes (Completada/Ninguna) entre los diferentes niveles educativos parentales."
   ]
  },
  {
   "cell_type": "markdown",
   "metadata": {},
   "source": [
    "- **Conclusión:** Si bien la mayoría de estudiantes no completan la preparación (un 64.2%), con la distribución de frecuencias realizada se observó que las categorías de los niveles educativos parentales siguen un comportamiento en el que a mayor nivel de dicha categoría, el estudiante es más propenso a completar la preparación previa.\n",
    "\n",
    "- **Recomendación:** Implementar programas de apoyo para fomentar la preparación previa en los estudiantes, esto debido a la diferencia evidente donde la tasa de no preparación es más alta."
   ]
  },
  {
   "cell_type": "markdown",
   "metadata": {},
   "source": [
    "## Comparación sobre si los estudiantes con padres de mayor nivel educativo tienen una tasa de preparación para exámenes significativamente mayor que aquellos con padres de menor formación."
   ]
  },
  {
   "cell_type": "markdown",
   "metadata": {},
   "source": [
    "- **Conclusión:** Los estudiantes con padres de mayor nivel educativo tienden a completar más la preparación previa. Por ejemplo, los estudiantes con padres de \"Licenciatura\" completan la preparación en un 38.98%, mientras que los de \"Escuela secundaria\" lo hacen en un 28.57%.\n",
    "\n",
    "- **Recomendación:** Fomentar la educación parental y el acceso a recursos educativos en familias con menor nivel educativo para reducir la brecha en la preparación previa."
   ]
  },
  {
   "cell_type": "markdown",
   "metadata": {},
   "source": [
    "## Preparación previa y su influencia en las notas de los estudiantes, según el nivel educativo parental"
   ]
  },
  {
   "cell_type": "markdown",
   "metadata": {},
   "source": [
    "- **Conclusión:** Los estudiantes que completan la preparación previa obtienen notas promedio más altas, independientemente del nivel educativo de sus padres. Sin embargo, los estudiantes con padres de mayor nivel educativo tienden a tener un mayor impacto positivo en sus notas cuando completan la preparación.\n",
    "\n",
    "- **Recomendación:** Promover la preparación previa de los estudiantes con padres en todos los niveles educativos, con especial énfasis en estudiantes con padres de menor formación (y menor nivel socioeconómico), para mejorar el rendimiento académico."
   ]
  },
  {
   "cell_type": "markdown",
   "metadata": {},
   "source": [
    "## Analizar si el sexo del estudiante influye en la preparación para exámenes en estudiantes con padres de menor nivel educativo “Algún estudio de secundaria” (caso atípico)."
   ]
  },
  {
   "cell_type": "markdown",
   "metadata": {},
   "source": [
    "- **Conclusión:** El sexo del estudiante influye en la preparación previa. Los estudiantes hombres tienden a completar más la preparación (42 de 77) que las mujeres (35 de 77). Esto sugiere basicamente que los hombres tienden más a prepararse que las mujeres, aunque sea de manera mínima.\n",
    "\n",
    "- **Recomendación:** Aunque no se visualizaron diferencias significativas que determinaran ventaja de un sexo u otro al momento de la preparación previa, el fomentar de manera equitativa y en igualdad de condiciones el estudio académico siempre es una opción."
   ]
  },
  {
   "cell_type": "markdown",
   "metadata": {},
   "source": [
    "## Cómo conclusión general: \n",
    "\n",
    "El nivel educativo parental y el tipo de almuerzo son factores clave que influyen en la preparación previa para exámenes y, en consecuencia, en el rendimiento académico de los estudiantes. Es necesario implementar políticas educativas que aborden estas desigualdades, especialmente en contextos socioeconómicos vulnerables."
   ]
  }
 ],
 "metadata": {
  "language_info": {
   "name": "python"
  }
 },
 "nbformat": 4,
 "nbformat_minor": 2
}
