{
 "cells": [
  {
   "cell_type": "markdown",
   "metadata": {},
   "source": [
    "# CONCLUSIONES Y RECOMENDACIONES"
   ]
  },
  {
   "cell_type": "markdown",
   "metadata": {},
   "source": [
    "En el presente capitulo se pretende exponer las conclusiones obtenidas en la investigación las cuales se desglosarán según los objetivos señalados al inicio del estudio, así como las posibles recomendaciones a considerar como vías para la solución de la problemática planteada. "
   ]
  },
  {
   "cell_type": "markdown",
   "metadata": {},
   "source": [
    "## Distribución de las categorías de preparación para exámenes (Completada/Ninguna) entre los diferentes niveles educativos parentales."
   ]
  },
  {
   "cell_type": "markdown",
   "metadata": {},
   "source": [
    "- **Conclusión:** Si bien la mayoría de estudiantes no completan la preparación (un 64.2%), con la distribución de frecuencias porcentuales condicional realizada se observó que las categorías de los niveles educativos parentales siguen un comportamiento en el que a mayor nivel de dicha categoría, el estudiante es más propenso a completar la preparación previa.\n",
    "\n",
    "- **Recomendación:** Implementar programas de apoyo para fomentar la preparación previa en los estudiantes, esto debido a la diferencia evidente donde la tasa de no preparación es más alta."
   ]
  }
 ],
 "metadata": {
  "language_info": {
   "name": "python"
  }
 },
 "nbformat": 4,
 "nbformat_minor": 2
}
